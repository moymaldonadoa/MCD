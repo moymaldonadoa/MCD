{
 "cells": [
  {
   "cell_type": "code",
   "execution_count": 3,
   "metadata": {},
   "outputs": [
    {
     "name": "stdout",
     "output_type": "stream",
     "text": [
      "            Product  Price\n",
      "0  Desktop Computer    700\n",
      "1            Tablet    250\n",
      "2            iPhone    800\n",
      "3            Laptop   1200\n"
     ]
    }
   ],
   "source": [
    "#Ejercicios Pandas\n",
    "\n",
    "#Crear un dataframe a partir del dictionario q se encuentra\n",
    "#al final de esta pagina\n",
    "import pandas as pd\n",
    "\n",
    "d = {\"Product\":{\"0\":\"Desktop Computer\",\"1\":\"Tablet\",\"2\":\"iPhone\",\n",
    "    \"3\":\"Laptop\"},\"Price\":{\"0\":700,\"1\":250,\"2\":800,\"3\":1200}}\n",
    "\n",
    "df = pd.DataFrame(data=d)\n",
    "\n",
    "print(df)"
   ]
  },
  {
   "cell_type": "code",
   "execution_count": 4,
   "metadata": {},
   "outputs": [
    {
     "data": {
      "text/html": [
       "<div>\n",
       "<style scoped>\n",
       "    .dataframe tbody tr th:only-of-type {\n",
       "        vertical-align: middle;\n",
       "    }\n",
       "\n",
       "    .dataframe tbody tr th {\n",
       "        vertical-align: top;\n",
       "    }\n",
       "\n",
       "    .dataframe thead th {\n",
       "        text-align: right;\n",
       "    }\n",
       "</style>\n",
       "<table border=\"1\" class=\"dataframe\">\n",
       "  <thead>\n",
       "    <tr style=\"text-align: right;\">\n",
       "      <th></th>\n",
       "      <th>Product</th>\n",
       "      <th>Price</th>\n",
       "    </tr>\n",
       "  </thead>\n",
       "  <tbody>\n",
       "    <tr>\n",
       "      <td>0</td>\n",
       "      <td>Desktop Computer</td>\n",
       "      <td>700</td>\n",
       "    </tr>\n",
       "    <tr>\n",
       "      <td>1</td>\n",
       "      <td>Tablet</td>\n",
       "      <td>250</td>\n",
       "    </tr>\n",
       "    <tr>\n",
       "      <td>2</td>\n",
       "      <td>iPhone</td>\n",
       "      <td>800</td>\n",
       "    </tr>\n",
       "    <tr>\n",
       "      <td>3</td>\n",
       "      <td>Laptop</td>\n",
       "      <td>1200</td>\n",
       "    </tr>\n",
       "  </tbody>\n",
       "</table>\n",
       "</div>"
      ],
      "text/plain": [
       "            Product  Price\n",
       "0  Desktop Computer    700\n",
       "1            Tablet    250\n",
       "2            iPhone    800\n",
       "3            Laptop   1200"
      ]
     },
     "execution_count": 4,
     "metadata": {},
     "output_type": "execute_result"
    }
   ],
   "source": [
    "#2.Se podria si la llave fuera int y no str?\n",
    "#R: No, porque traería otros datos\n",
    "\n",
    "#3. Ver los primeros 5 registros del dataframe\n",
    "\n",
    "df.head()"
   ]
  },
  {
   "cell_type": "code",
   "execution_count": 5,
   "metadata": {},
   "outputs": [
    {
     "data": {
      "text/html": [
       "<div>\n",
       "<style scoped>\n",
       "    .dataframe tbody tr th:only-of-type {\n",
       "        vertical-align: middle;\n",
       "    }\n",
       "\n",
       "    .dataframe tbody tr th {\n",
       "        vertical-align: top;\n",
       "    }\n",
       "\n",
       "    .dataframe thead th {\n",
       "        text-align: right;\n",
       "    }\n",
       "</style>\n",
       "<table border=\"1\" class=\"dataframe\">\n",
       "  <thead>\n",
       "    <tr style=\"text-align: right;\">\n",
       "      <th></th>\n",
       "      <th>Product</th>\n",
       "      <th>Price</th>\n",
       "    </tr>\n",
       "  </thead>\n",
       "  <tbody>\n",
       "    <tr>\n",
       "      <td>0</td>\n",
       "      <td>Desktop Computer</td>\n",
       "      <td>700</td>\n",
       "    </tr>\n",
       "    <tr>\n",
       "      <td>1</td>\n",
       "      <td>Tablet</td>\n",
       "      <td>250</td>\n",
       "    </tr>\n",
       "    <tr>\n",
       "      <td>2</td>\n",
       "      <td>iPhone</td>\n",
       "      <td>800</td>\n",
       "    </tr>\n",
       "    <tr>\n",
       "      <td>3</td>\n",
       "      <td>Laptop</td>\n",
       "      <td>1200</td>\n",
       "    </tr>\n",
       "  </tbody>\n",
       "</table>\n",
       "</div>"
      ],
      "text/plain": [
       "            Product  Price\n",
       "0  Desktop Computer    700\n",
       "1            Tablet    250\n",
       "2            iPhone    800\n",
       "3            Laptop   1200"
      ]
     },
     "execution_count": 5,
     "metadata": {},
     "output_type": "execute_result"
    }
   ],
   "source": [
    "#4.Ver los ultimos 10 registros del dataframe\n",
    "df.tail()"
   ]
  },
  {
   "cell_type": "code",
   "execution_count": 10,
   "metadata": {},
   "outputs": [
    {
     "data": {
      "text/plain": [
       "['Product', 'Price']"
      ]
     },
     "execution_count": 10,
     "metadata": {},
     "output_type": "execute_result"
    }
   ],
   "source": [
    "#5.Mostrar las columnas del dataframe\n",
    "\n",
    "list(df.columns) "
   ]
  },
  {
   "cell_type": "code",
   "execution_count": null,
   "metadata": {},
   "outputs": [],
   "source": [
    "#6.Transformar la columna de posicion a un arreglo de numpy"
   ]
  },
  {
   "cell_type": "code",
   "execution_count": 11,
   "metadata": {},
   "outputs": [
    {
     "data": {
      "text/html": [
       "<div>\n",
       "<style scoped>\n",
       "    .dataframe tbody tr th:only-of-type {\n",
       "        vertical-align: middle;\n",
       "    }\n",
       "\n",
       "    .dataframe tbody tr th {\n",
       "        vertical-align: top;\n",
       "    }\n",
       "\n",
       "    .dataframe thead th {\n",
       "        text-align: right;\n",
       "    }\n",
       "</style>\n",
       "<table border=\"1\" class=\"dataframe\">\n",
       "  <thead>\n",
       "    <tr style=\"text-align: right;\">\n",
       "      <th></th>\n",
       "      <th>Price</th>\n",
       "    </tr>\n",
       "  </thead>\n",
       "  <tbody>\n",
       "    <tr>\n",
       "      <td>count</td>\n",
       "      <td>4.000000</td>\n",
       "    </tr>\n",
       "    <tr>\n",
       "      <td>mean</td>\n",
       "      <td>737.500000</td>\n",
       "    </tr>\n",
       "    <tr>\n",
       "      <td>std</td>\n",
       "      <td>390.245649</td>\n",
       "    </tr>\n",
       "    <tr>\n",
       "      <td>min</td>\n",
       "      <td>250.000000</td>\n",
       "    </tr>\n",
       "    <tr>\n",
       "      <td>25%</td>\n",
       "      <td>587.500000</td>\n",
       "    </tr>\n",
       "    <tr>\n",
       "      <td>50%</td>\n",
       "      <td>750.000000</td>\n",
       "    </tr>\n",
       "    <tr>\n",
       "      <td>75%</td>\n",
       "      <td>900.000000</td>\n",
       "    </tr>\n",
       "    <tr>\n",
       "      <td>max</td>\n",
       "      <td>1200.000000</td>\n",
       "    </tr>\n",
       "  </tbody>\n",
       "</table>\n",
       "</div>"
      ],
      "text/plain": [
       "             Price\n",
       "count     4.000000\n",
       "mean    737.500000\n",
       "std     390.245649\n",
       "min     250.000000\n",
       "25%     587.500000\n",
       "50%     750.000000\n",
       "75%     900.000000\n",
       "max    1200.000000"
      ]
     },
     "execution_count": 11,
     "metadata": {},
     "output_type": "execute_result"
    }
   ],
   "source": [
    "#7.Mostrar estadistica descriptiva de los valores\n",
    "\n",
    "df.describe()"
   ]
  },
  {
   "cell_type": "code",
   "execution_count": 14,
   "metadata": {},
   "outputs": [
    {
     "data": {
      "text/html": [
       "<div>\n",
       "<style scoped>\n",
       "    .dataframe tbody tr th:only-of-type {\n",
       "        vertical-align: middle;\n",
       "    }\n",
       "\n",
       "    .dataframe tbody tr th {\n",
       "        vertical-align: top;\n",
       "    }\n",
       "\n",
       "    .dataframe thead th {\n",
       "        text-align: right;\n",
       "    }\n",
       "</style>\n",
       "<table border=\"1\" class=\"dataframe\">\n",
       "  <thead>\n",
       "    <tr style=\"text-align: right;\">\n",
       "      <th></th>\n",
       "      <th>Product</th>\n",
       "      <th>Price</th>\n",
       "    </tr>\n",
       "  </thead>\n",
       "  <tbody>\n",
       "    <tr>\n",
       "      <td>0</td>\n",
       "      <td>Desktop Computer</td>\n",
       "      <td>700</td>\n",
       "    </tr>\n",
       "    <tr>\n",
       "      <td>3</td>\n",
       "      <td>Laptop</td>\n",
       "      <td>1200</td>\n",
       "    </tr>\n",
       "    <tr>\n",
       "      <td>1</td>\n",
       "      <td>Tablet</td>\n",
       "      <td>250</td>\n",
       "    </tr>\n",
       "    <tr>\n",
       "      <td>2</td>\n",
       "      <td>iPhone</td>\n",
       "      <td>800</td>\n",
       "    </tr>\n",
       "  </tbody>\n",
       "</table>\n",
       "</div>"
      ],
      "text/plain": [
       "            Product  Price\n",
       "0  Desktop Computer    700\n",
       "3            Laptop   1200\n",
       "1            Tablet    250\n",
       "2            iPhone    800"
      ]
     },
     "execution_count": 14,
     "metadata": {},
     "output_type": "execute_result"
    }
   ],
   "source": [
    "#8. Ordenar valores alfabeticamente\n",
    "\n",
    "df.sort_values('Product')"
   ]
  },
  {
   "cell_type": "code",
   "execution_count": 15,
   "metadata": {},
   "outputs": [
    {
     "data": {
      "text/plain": [
       "'Product,Price\\nDesktop Computer,700\\nTablet,250\\niPhone,800\\nLaptop,1200\\n'"
      ]
     },
     "execution_count": 15,
     "metadata": {},
     "output_type": "execute_result"
    }
   ],
   "source": [
    "#9.Guardar valores a un csv\n",
    "\n",
    "df.to_csv(index=False)"
   ]
  },
  {
   "cell_type": "code",
   "execution_count": 17,
   "metadata": {},
   "outputs": [],
   "source": [
    "#10.Cargar algun excel de los disponibles en GDrive\n",
    "df2= pd.read_excel('Chapter 13Voter-Persuasion-solution-full.xlsx', index_col=0)  "
   ]
  },
  {
   "cell_type": "code",
   "execution_count": null,
   "metadata": {},
   "outputs": [],
   "source": [
    "#11.Cortar un dataframe de 3x4 a partir del anterior \n",
    "\n",
    "df3 = \n"
   ]
  },
  {
   "cell_type": "code",
   "execution_count": 36,
   "metadata": {},
   "outputs": [
    {
     "data": {
      "text/plain": [
       "'[[\"1\":\"Santos Laguna\"],[\"2\":\"León\"],[\"3\":\"Tigres\"],[\"4\":\"Querétaro\"],[\"5\":\"Necaxa\"],[\"6\":\"América\"],[\"7\":\":Monarcas Morelia\"],[\"8\":\"Monterrey\"],[\"9\":\"Pachuca\"],[\"10\":\"Chivas\"],[\"11\":\"Club Tijuana\"],[\"12\":\"Cruz Azul\"],[\"13\":\"Pumas UNAM\"],[\"14\":\"Atlas\"],[\"15\":\"Atlético San Luis\"],[\"16\":\"FC Juárez\"],[\"17\":\"Toluca\"],[\"18\":\"Puebla\"],[\"19\":\"Veracruz\"]]'"
      ]
     },
     "execution_count": 36,
     "metadata": {},
     "output_type": "execute_result"
    }
   ],
   "source": [
    "#12.Cargar el json q se encuentra al final de esta pagina\n",
    "df.to_json(orient='values')\n",
    "'[[\"1\":\"Santos Laguna\"],[\"2\":\"León\"],[\"3\":\"Tigres\"],[\"4\":\"Querétaro\"],[\"5\":\"Necaxa\"],[\"6\":\"América\"],[\"7\":\":Monarcas Morelia\"],[\"8\":\"Monterrey\"],[\"9\":\"Pachuca\"],[\"10\":\"Chivas\"],[\"11\":\"Club Tijuana\"],[\"12\":\"Cruz Azul\"],[\"13\":\"Pumas UNAM\"],[\"14\":\"Atlas\"],[\"15\":\"Atlético San Luis\"],[\"16\":\"FC Juárez\"],[\"17\":\"Toluca\"],[\"18\":\"Puebla\"],[\"19\":\"Veracruz\"]]'"
   ]
  },
  {
   "cell_type": "code",
   "execution_count": 38,
   "metadata": {},
   "outputs": [
    {
     "data": {
      "text/plain": [
       "'{\"0\":{\"Product\":\"Desktop Computer\",\"Price\":700},\"1\":{\"Product\":\"Tablet\",\"Price\":250},\"2\":{\"Product\":\"iPhone\",\"Price\":800},\"3\":{\"Product\":\"Laptop\",\"Price\":1200}}'"
      ]
     },
     "execution_count": 38,
     "metadata": {},
     "output_type": "execute_result"
    }
   ],
   "source": [
    "#13.Imprimir dataframe resultante del json\n",
    "df4 = df.to_json(orient='index')\n",
    "\n",
    "\n",
    "df4\n"
   ]
  },
  {
   "cell_type": "code",
   "execution_count": 42,
   "metadata": {},
   "outputs": [],
   "source": [
    "#14.Guardar a un XLS\n",
    "df.to_excel(\"ClaseProgra.xlsx\") "
   ]
  },
  {
   "cell_type": "code",
   "execution_count": 47,
   "metadata": {},
   "outputs": [
    {
     "name": "stdout",
     "output_type": "stream",
     "text": [
      "           rates base       date\n",
      "AUD      1.63840  EUR 2020-02-24\n",
      "BGN      1.95580  EUR 2020-02-24\n",
      "BRL      4.74740  EUR 2020-02-24\n",
      "CAD      1.43720  EUR 2020-02-24\n",
      "CHF      1.06000  EUR 2020-02-24\n",
      "CNY      7.61020  EUR 2020-02-24\n",
      "CZK     25.18600  EUR 2020-02-24\n",
      "DKK      7.46990  EUR 2020-02-24\n",
      "GBP      0.83833  EUR 2020-02-24\n",
      "HKD      8.43240  EUR 2020-02-24\n",
      "HRK      7.46500  EUR 2020-02-24\n",
      "HUF    337.61000  EUR 2020-02-24\n",
      "IDR  15098.95000  EUR 2020-02-24\n",
      "ILS      3.72080  EUR 2020-02-24\n",
      "INR     77.82650  EUR 2020-02-24\n",
      "ISK    139.30000  EUR 2020-02-24\n",
      "JPY    120.52000  EUR 2020-02-24\n",
      "KRW   1319.20000  EUR 2020-02-24\n",
      "MXN     20.72340  EUR 2020-02-24\n",
      "MYR      4.57280  EUR 2020-02-24\n",
      "NOK     10.13280  EUR 2020-02-24\n",
      "NZD      1.70950  EUR 2020-02-24\n",
      "PHP     55.24800  EUR 2020-02-24\n",
      "PLN      4.29890  EUR 2020-02-24\n",
      "RON      4.80630  EUR 2020-02-24\n",
      "RUB     70.66750  EUR 2020-02-24\n",
      "SEK     10.58330  EUR 2020-02-24\n",
      "SGD      1.51640  EUR 2020-02-24\n",
      "THB     34.33600  EUR 2020-02-24\n",
      "TRY      6.65990  EUR 2020-02-24\n",
      "USD      1.08180  EUR 2020-02-24\n",
      "ZAR     16.35920  EUR 2020-02-24\n"
     ]
    }
   ],
   "source": [
    "#15.Cargar el resultado de este ws en un dataframe https://api.exchangeratesapi.io/latest e imprimirlo\n",
    "\n",
    "import json \n",
    "a = pd.read_json('https://api.exchangeratesapi.io/latest')\n",
    "print (a)\n",
    " "
   ]
  },
  {
   "cell_type": "code",
   "execution_count": null,
   "metadata": {},
   "outputs": [],
   "source": []
  }
 ],
 "metadata": {
  "kernelspec": {
   "display_name": "Python 3",
   "language": "python",
   "name": "python3"
  },
  "language_info": {
   "codemirror_mode": {
    "name": "ipython",
    "version": 3
   },
   "file_extension": ".py",
   "mimetype": "text/x-python",
   "name": "python",
   "nbconvert_exporter": "python",
   "pygments_lexer": "ipython3",
   "version": "3.7.4"
  }
 },
 "nbformat": 4,
 "nbformat_minor": 2
}
